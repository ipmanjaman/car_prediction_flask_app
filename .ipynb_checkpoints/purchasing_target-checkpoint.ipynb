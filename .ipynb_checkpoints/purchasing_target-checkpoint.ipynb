{
 "cells": [
  {
   "cell_type": "code",
   "execution_count": 1,
   "id": "93270d51",
   "metadata": {},
   "outputs": [],
   "source": [
    "import pandas as pd\n",
    "import numpy as np\n",
    "from sklearn.model_selection import train_test_split\n",
    "from sklearn.linear_model import LinearRegression\n",
    "import pickle"
   ]
  },
  {
   "cell_type": "code",
   "execution_count": 2,
   "id": "04e93740",
   "metadata": {},
   "outputs": [],
   "source": [
    "data = pd.read_csv('car_data.csv')"
   ]
  },
  {
   "cell_type": "code",
   "execution_count": 3,
   "id": "fbf82756",
   "metadata": {},
   "outputs": [
    {
     "data": {
      "text/plain": [
       "Index(['Age', 'Annual Salary', 'Credit Card Debt', 'Net Worth',\n",
       "       'Car Purchase Amount'],\n",
       "      dtype='object')"
      ]
     },
     "execution_count": 3,
     "metadata": {},
     "output_type": "execute_result"
    }
   ],
   "source": [
    "data.columns"
   ]
  },
  {
   "cell_type": "code",
   "execution_count": 4,
   "id": "d4dc743a",
   "metadata": {},
   "outputs": [
    {
     "data": {
      "text/html": [
       "<div>\n",
       "<style scoped>\n",
       "    .dataframe tbody tr th:only-of-type {\n",
       "        vertical-align: middle;\n",
       "    }\n",
       "\n",
       "    .dataframe tbody tr th {\n",
       "        vertical-align: top;\n",
       "    }\n",
       "\n",
       "    .dataframe thead th {\n",
       "        text-align: right;\n",
       "    }\n",
       "</style>\n",
       "<table border=\"1\" class=\"dataframe\">\n",
       "  <thead>\n",
       "    <tr style=\"text-align: right;\">\n",
       "      <th></th>\n",
       "      <th>Age</th>\n",
       "      <th>Annual Salary</th>\n",
       "      <th>Credit Card Debt</th>\n",
       "      <th>Net Worth</th>\n",
       "      <th>Car Purchase Amount</th>\n",
       "    </tr>\n",
       "  </thead>\n",
       "  <tbody>\n",
       "    <tr>\n",
       "      <th>0</th>\n",
       "      <td>41</td>\n",
       "      <td>62812.09301</td>\n",
       "      <td>11609.380910</td>\n",
       "      <td>238961.2505</td>\n",
       "      <td>35321.45877</td>\n",
       "    </tr>\n",
       "    <tr>\n",
       "      <th>1</th>\n",
       "      <td>40</td>\n",
       "      <td>66646.89292</td>\n",
       "      <td>9572.957136</td>\n",
       "      <td>530973.9078</td>\n",
       "      <td>45115.52566</td>\n",
       "    </tr>\n",
       "    <tr>\n",
       "      <th>2</th>\n",
       "      <td>43</td>\n",
       "      <td>53798.55112</td>\n",
       "      <td>11160.355060</td>\n",
       "      <td>638467.1773</td>\n",
       "      <td>42925.70921</td>\n",
       "    </tr>\n",
       "  </tbody>\n",
       "</table>\n",
       "</div>"
      ],
      "text/plain": [
       "   Age  Annual Salary  Credit Card Debt    Net Worth  Car Purchase Amount\n",
       "0   41    62812.09301      11609.380910  238961.2505          35321.45877\n",
       "1   40    66646.89292       9572.957136  530973.9078          45115.52566\n",
       "2   43    53798.55112      11160.355060  638467.1773          42925.70921"
      ]
     },
     "execution_count": 4,
     "metadata": {},
     "output_type": "execute_result"
    }
   ],
   "source": [
    "data.head(3)"
   ]
  },
  {
   "cell_type": "code",
   "execution_count": 5,
   "id": "5d1c6220",
   "metadata": {},
   "outputs": [
    {
     "data": {
      "text/plain": [
       "0      238961.2505\n",
       "1      530973.9078\n",
       "2      638467.1773\n",
       "3      548599.0524\n",
       "4      560304.0671\n",
       "          ...     \n",
       "495    541670.1016\n",
       "496    360419.0988\n",
       "497    764531.3203\n",
       "498    337826.6382\n",
       "499    462946.4924\n",
       "Name: Net Worth, Length: 500, dtype: float64"
      ]
     },
     "execution_count": 5,
     "metadata": {},
     "output_type": "execute_result"
    }
   ],
   "source": [
    "data['Net Worth']"
   ]
  },
  {
   "cell_type": "code",
   "execution_count": 6,
   "id": "6b8346ba",
   "metadata": {},
   "outputs": [],
   "source": [
    "x = data[['Age', 'Annual Salary', 'Credit Card Debt', 'Net Worth']]\n",
    "y = data['Car Purchase Amount']"
   ]
  },
  {
   "cell_type": "code",
   "execution_count": 7,
   "id": "fc66879e",
   "metadata": {},
   "outputs": [],
   "source": [
    "x_train, x_test, y_train, y_test = train_test_split(x, y, test_size=0.3, random_state=0)"
   ]
  },
  {
   "cell_type": "code",
   "execution_count": 8,
   "id": "8397290b",
   "metadata": {},
   "outputs": [],
   "source": [
    "my_linear_rig = LinearRegression()"
   ]
  },
  {
   "cell_type": "code",
   "execution_count": 9,
   "id": "de38b06b",
   "metadata": {},
   "outputs": [
    {
     "data": {
      "text/plain": [
       "(350, 4)"
      ]
     },
     "metadata": {},
     "output_type": "display_data"
    },
    {
     "data": {
      "text/plain": [
       "(350,)"
      ]
     },
     "metadata": {},
     "output_type": "display_data"
    }
   ],
   "source": [
    "display(x_train.shape, y_train.shape)\n",
    "#"
   ]
  },
  {
   "cell_type": "code",
   "execution_count": 10,
   "id": "867d178a",
   "metadata": {},
   "outputs": [
    {
     "data": {
      "text/plain": [
       "LinearRegression(copy_X=True, fit_intercept=True, n_jobs=None, normalize=False)"
      ]
     },
     "execution_count": 10,
     "metadata": {},
     "output_type": "execute_result"
    }
   ],
   "source": [
    "my_linear_rig.fit(x_train, y_train)"
   ]
  },
  {
   "cell_type": "code",
   "execution_count": 11,
   "id": "cc01ebcb",
   "metadata": {},
   "outputs": [],
   "source": [
    "predictions = my_linear_rig.predict(x_test)"
   ]
  },
  {
   "cell_type": "code",
   "execution_count": 12,
   "id": "bf414e9d",
   "metadata": {},
   "outputs": [],
   "source": [
    "file = open(\"src/price_suggestion.pkl\", 'wb')\n",
    "pickle.dump(my_linear_rig, file)"
   ]
  },
  {
   "cell_type": "code",
   "execution_count": null,
   "id": "e3772c2f",
   "metadata": {},
   "outputs": [],
   "source": []
  }
 ],
 "metadata": {
  "kernelspec": {
   "display_name": "Python 3 (ipykernel)",
   "language": "python",
   "name": "python3"
  },
  "language_info": {
   "codemirror_mode": {
    "name": "ipython",
    "version": 3
   },
   "file_extension": ".py",
   "mimetype": "text/x-python",
   "name": "python",
   "nbconvert_exporter": "python",
   "pygments_lexer": "ipython3",
   "version": "3.7.16"
  }
 },
 "nbformat": 4,
 "nbformat_minor": 5
}
